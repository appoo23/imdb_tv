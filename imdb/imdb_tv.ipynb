{
 "cells": [
  {
   "cell_type": "code",
   "execution_count": 1,
   "id": "f5101d46-5c02-44f6-8dc9-7a0247d81620",
   "metadata": {},
   "outputs": [],
   "source": [
    "import pandas as pd\n",
    "import numpy as np\n",
    "import sklearn\n",
    "%matplotlib inline\n",
    "import matplotlib as mpl\n",
    "import matplotlib.pyplot as plt"
   ]
  },
  {
   "cell_type": "code",
   "execution_count": 102,
   "id": "f9301cb6-6dde-44b5-b16c-06bdd5704c22",
   "metadata": {},
   "outputs": [],
   "source": [
    "imdb_df = pd.read_csv('TMDB_tv_dataset_v3.csv')"
   ]
  },
  {
   "cell_type": "code",
   "execution_count": 6,
   "id": "c1638a16-147a-4e57-98d9-34b09f33a012",
   "metadata": {},
   "outputs": [
    {
     "data": {
      "text/html": [
       "<div>\n",
       "<style scoped>\n",
       "    .dataframe tbody tr th:only-of-type {\n",
       "        vertical-align: middle;\n",
       "    }\n",
       "\n",
       "    .dataframe tbody tr th {\n",
       "        vertical-align: top;\n",
       "    }\n",
       "\n",
       "    .dataframe thead th {\n",
       "        text-align: right;\n",
       "    }\n",
       "</style>\n",
       "<table border=\"1\" class=\"dataframe\">\n",
       "  <thead>\n",
       "    <tr style=\"text-align: right;\">\n",
       "      <th></th>\n",
       "      <th>id</th>\n",
       "      <th>name</th>\n",
       "      <th>number_of_seasons</th>\n",
       "      <th>number_of_episodes</th>\n",
       "      <th>original_language</th>\n",
       "      <th>vote_count</th>\n",
       "      <th>vote_average</th>\n",
       "      <th>overview</th>\n",
       "      <th>adult</th>\n",
       "      <th>backdrop_path</th>\n",
       "      <th>...</th>\n",
       "      <th>tagline</th>\n",
       "      <th>genres</th>\n",
       "      <th>created_by</th>\n",
       "      <th>languages</th>\n",
       "      <th>networks</th>\n",
       "      <th>origin_country</th>\n",
       "      <th>spoken_languages</th>\n",
       "      <th>production_companies</th>\n",
       "      <th>production_countries</th>\n",
       "      <th>episode_run_time</th>\n",
       "    </tr>\n",
       "  </thead>\n",
       "  <tbody>\n",
       "    <tr>\n",
       "      <th>0</th>\n",
       "      <td>1399</td>\n",
       "      <td>Game of Thrones</td>\n",
       "      <td>8</td>\n",
       "      <td>73</td>\n",
       "      <td>en</td>\n",
       "      <td>21857</td>\n",
       "      <td>8.442</td>\n",
       "      <td>Seven noble families fight for control of the ...</td>\n",
       "      <td>False</td>\n",
       "      <td>/2OMB0ynKlyIenMJWI2Dy9IWT4c.jpg</td>\n",
       "      <td>...</td>\n",
       "      <td>Winter Is Coming</td>\n",
       "      <td>Sci-Fi &amp; Fantasy_ Drama_ Action &amp; Adventure</td>\n",
       "      <td>David Benioff_ D.B. Weiss</td>\n",
       "      <td>en</td>\n",
       "      <td>HBO</td>\n",
       "      <td>US</td>\n",
       "      <td>English</td>\n",
       "      <td>Revolution Sun Studios_ Television 360_ Genera...</td>\n",
       "      <td>United Kingdom_ United States of America</td>\n",
       "      <td>0</td>\n",
       "    </tr>\n",
       "    <tr>\n",
       "      <th>1</th>\n",
       "      <td>71446</td>\n",
       "      <td>Money Heist</td>\n",
       "      <td>3</td>\n",
       "      <td>41</td>\n",
       "      <td>es</td>\n",
       "      <td>17836</td>\n",
       "      <td>8.257</td>\n",
       "      <td>To carry out the biggest heist in history_ a m...</td>\n",
       "      <td>False</td>\n",
       "      <td>/gFZriCkpJYsApPZEF3jhxL4yLzG.jpg</td>\n",
       "      <td>...</td>\n",
       "      <td>The perfect robbery.</td>\n",
       "      <td>Crime_ Drama</td>\n",
       "      <td>Álex Pina</td>\n",
       "      <td>es</td>\n",
       "      <td>Netflix_ Antena 3</td>\n",
       "      <td>ES</td>\n",
       "      <td>Español</td>\n",
       "      <td>Vancouver Media</td>\n",
       "      <td>Spain</td>\n",
       "      <td>70</td>\n",
       "    </tr>\n",
       "    <tr>\n",
       "      <th>2</th>\n",
       "      <td>66732</td>\n",
       "      <td>Stranger Things</td>\n",
       "      <td>4</td>\n",
       "      <td>34</td>\n",
       "      <td>en</td>\n",
       "      <td>16161</td>\n",
       "      <td>8.624</td>\n",
       "      <td>When a young boy vanishes_ a small town uncove...</td>\n",
       "      <td>False</td>\n",
       "      <td>/2MaumbgBlW1NoPo3ZJO38A6v7OS.jpg</td>\n",
       "      <td>...</td>\n",
       "      <td>Every ending has a beginning.</td>\n",
       "      <td>Drama_ Sci-Fi &amp; Fantasy_ Mystery</td>\n",
       "      <td>Matt Duffer_ Ross Duffer</td>\n",
       "      <td>en</td>\n",
       "      <td>Netflix</td>\n",
       "      <td>US</td>\n",
       "      <td>English</td>\n",
       "      <td>21 Laps Entertainment_ Monkey Massacre Product...</td>\n",
       "      <td>United States of America</td>\n",
       "      <td>0</td>\n",
       "    </tr>\n",
       "    <tr>\n",
       "      <th>3</th>\n",
       "      <td>1402</td>\n",
       "      <td>The Walking Dead</td>\n",
       "      <td>11</td>\n",
       "      <td>177</td>\n",
       "      <td>en</td>\n",
       "      <td>15432</td>\n",
       "      <td>8.121</td>\n",
       "      <td>Sheriff's deputy Rick Grimes awakens from a co...</td>\n",
       "      <td>False</td>\n",
       "      <td>/x4salpjB11umlUOltfNvSSrjSXm.jpg</td>\n",
       "      <td>...</td>\n",
       "      <td>Fight the dead. Fear the living.</td>\n",
       "      <td>Action &amp; Adventure_ Drama_ Sci-Fi &amp; Fantasy</td>\n",
       "      <td>Frank Darabont</td>\n",
       "      <td>en</td>\n",
       "      <td>AMC</td>\n",
       "      <td>US</td>\n",
       "      <td>English</td>\n",
       "      <td>AMC Studios_ Circle of Confusion_ Valhalla Mot...</td>\n",
       "      <td>United States of America</td>\n",
       "      <td>42</td>\n",
       "    </tr>\n",
       "    <tr>\n",
       "      <th>4</th>\n",
       "      <td>63174</td>\n",
       "      <td>Lucifer</td>\n",
       "      <td>6</td>\n",
       "      <td>93</td>\n",
       "      <td>en</td>\n",
       "      <td>13870</td>\n",
       "      <td>8.486</td>\n",
       "      <td>Bored and unhappy as the Lord of Hell_ Lucifer...</td>\n",
       "      <td>False</td>\n",
       "      <td>/aDBRtunw49UF4XmqfyNuD9nlYIu.jpg</td>\n",
       "      <td>...</td>\n",
       "      <td>It's good to be bad.</td>\n",
       "      <td>Crime_ Sci-Fi &amp; Fantasy</td>\n",
       "      <td>Tom Kapinos</td>\n",
       "      <td>en</td>\n",
       "      <td>FOX_ Netflix</td>\n",
       "      <td>US</td>\n",
       "      <td>English</td>\n",
       "      <td>Warner Bros. Television_ DC Entertainment_ Jer...</td>\n",
       "      <td>United States of America</td>\n",
       "      <td>45</td>\n",
       "    </tr>\n",
       "  </tbody>\n",
       "</table>\n",
       "<p>5 rows × 29 columns</p>\n",
       "</div>"
      ],
      "text/plain": [
       "      id              name  number_of_seasons  number_of_episodes  \\\n",
       "0   1399   Game of Thrones                  8                  73   \n",
       "1  71446       Money Heist                  3                  41   \n",
       "2  66732   Stranger Things                  4                  34   \n",
       "3   1402  The Walking Dead                 11                 177   \n",
       "4  63174           Lucifer                  6                  93   \n",
       "\n",
       "  original_language  vote_count  vote_average  \\\n",
       "0                en       21857         8.442   \n",
       "1                es       17836         8.257   \n",
       "2                en       16161         8.624   \n",
       "3                en       15432         8.121   \n",
       "4                en       13870         8.486   \n",
       "\n",
       "                                            overview  adult  \\\n",
       "0  Seven noble families fight for control of the ...  False   \n",
       "1  To carry out the biggest heist in history_ a m...  False   \n",
       "2  When a young boy vanishes_ a small town uncove...  False   \n",
       "3  Sheriff's deputy Rick Grimes awakens from a co...  False   \n",
       "4  Bored and unhappy as the Lord of Hell_ Lucifer...  False   \n",
       "\n",
       "                      backdrop_path  ...                           tagline  \\\n",
       "0   /2OMB0ynKlyIenMJWI2Dy9IWT4c.jpg  ...                  Winter Is Coming   \n",
       "1  /gFZriCkpJYsApPZEF3jhxL4yLzG.jpg  ...              The perfect robbery.   \n",
       "2  /2MaumbgBlW1NoPo3ZJO38A6v7OS.jpg  ...     Every ending has a beginning.   \n",
       "3  /x4salpjB11umlUOltfNvSSrjSXm.jpg  ...  Fight the dead. Fear the living.   \n",
       "4  /aDBRtunw49UF4XmqfyNuD9nlYIu.jpg  ...              It's good to be bad.   \n",
       "\n",
       "                                        genres                 created_by  \\\n",
       "0  Sci-Fi & Fantasy_ Drama_ Action & Adventure  David Benioff_ D.B. Weiss   \n",
       "1                                 Crime_ Drama                  Álex Pina   \n",
       "2             Drama_ Sci-Fi & Fantasy_ Mystery   Matt Duffer_ Ross Duffer   \n",
       "3  Action & Adventure_ Drama_ Sci-Fi & Fantasy             Frank Darabont   \n",
       "4                      Crime_ Sci-Fi & Fantasy                Tom Kapinos   \n",
       "\n",
       "   languages           networks  origin_country spoken_languages  \\\n",
       "0         en                HBO              US          English   \n",
       "1         es  Netflix_ Antena 3              ES          Español   \n",
       "2         en            Netflix              US          English   \n",
       "3         en                AMC              US          English   \n",
       "4         en       FOX_ Netflix              US          English   \n",
       "\n",
       "                                production_companies  \\\n",
       "0  Revolution Sun Studios_ Television 360_ Genera...   \n",
       "1                                    Vancouver Media   \n",
       "2  21 Laps Entertainment_ Monkey Massacre Product...   \n",
       "3  AMC Studios_ Circle of Confusion_ Valhalla Mot...   \n",
       "4  Warner Bros. Television_ DC Entertainment_ Jer...   \n",
       "\n",
       "                       production_countries episode_run_time  \n",
       "0  United Kingdom_ United States of America                0  \n",
       "1                                     Spain               70  \n",
       "2                  United States of America                0  \n",
       "3                  United States of America               42  \n",
       "4                  United States of America               45  \n",
       "\n",
       "[5 rows x 29 columns]"
      ]
     },
     "execution_count": 6,
     "metadata": {},
     "output_type": "execute_result"
    }
   ],
   "source": [
    "imdb_df.head()"
   ]
  },
  {
   "cell_type": "code",
   "execution_count": 7,
   "id": "84cd25ee-da86-486a-8916-3b03e9e22ce5",
   "metadata": {},
   "outputs": [],
   "source": [
    "imdb_df.set_index('name',inplace=True)"
   ]
  },
  {
   "cell_type": "code",
   "execution_count": 8,
   "id": "adb93d45-ecf7-4cc1-af9d-3ff6279808f0",
   "metadata": {},
   "outputs": [
    {
     "name": "stdout",
     "output_type": "stream",
     "text": [
      "<class 'pandas.core.frame.DataFrame'>\n",
      "Index: 158566 entries, Game of Thrones to Anhoniyon Ka Andhera\n",
      "Data columns (total 28 columns):\n",
      " #   Column                Non-Null Count   Dtype  \n",
      "---  ------                --------------   -----  \n",
      " 0   id                    158566 non-null  int64  \n",
      " 1   number_of_seasons     158566 non-null  int64  \n",
      " 2   number_of_episodes    158566 non-null  int64  \n",
      " 3   original_language     158566 non-null  object \n",
      " 4   vote_count            158566 non-null  int64  \n",
      " 5   vote_average          158566 non-null  float64\n",
      " 6   overview              89357 non-null   object \n",
      " 7   adult                 158566 non-null  bool   \n",
      " 8   backdrop_path         74263 non-null   object \n",
      " 9   first_air_date        128542 non-null  object \n",
      " 10  last_air_date         130608 non-null  object \n",
      " 11  homepage              49380 non-null   object \n",
      " 12  in_production         158566 non-null  bool   \n",
      " 13  original_name         158561 non-null  object \n",
      " 14  popularity            158566 non-null  float64\n",
      " 15  poster_path           102277 non-null  object \n",
      " 16  type                  158566 non-null  object \n",
      " 17  status                158566 non-null  object \n",
      " 18  tagline               5211 non-null    object \n",
      " 19  genres                94479 non-null   object \n",
      " 20  created_by            34840 non-null   object \n",
      " 21  languages             104964 non-null  object \n",
      " 22  networks              93978 non-null   object \n",
      " 23  origin_country        127552 non-null  object \n",
      " 24  spoken_languages      104256 non-null  object \n",
      " 25  production_companies  56595 non-null   object \n",
      " 26  production_countries  73556 non-null   object \n",
      " 27  episode_run_time      158566 non-null  int64  \n",
      "dtypes: bool(2), float64(2), int64(5), object(19)\n",
      "memory usage: 33.0+ MB\n"
     ]
    }
   ],
   "source": [
    "imdb_df.info()"
   ]
  },
  {
   "cell_type": "code",
   "execution_count": 10,
   "id": "52d8d5ae-d864-4331-87c9-f38e7675e7b9",
   "metadata": {},
   "outputs": [],
   "source": [
    "attributes = ['id','number_of_seasons','number_of_episodes','vote_count','vote_average','adult','popularity','networks','origin_country']\n",
    "imdb_df = imdb_df[attributes]"
   ]
  },
  {
   "cell_type": "code",
   "execution_count": 11,
   "id": "69b5b5a5-f991-4fee-929c-72a85d7eea2c",
   "metadata": {},
   "outputs": [],
   "source": [
    "num_attributes = ['number_of_seasons','number_of_episodes','popularity','vote_average']"
   ]
  },
  {
   "cell_type": "code",
   "execution_count": 12,
   "id": "7312055b-7b44-47d7-b446-efefa9b12b48",
   "metadata": {},
   "outputs": [
    {
     "data": {
      "text/plain": [
       "array([[<AxesSubplot:xlabel='number_of_seasons', ylabel='number_of_seasons'>,\n",
       "        <AxesSubplot:xlabel='number_of_episodes', ylabel='number_of_seasons'>,\n",
       "        <AxesSubplot:xlabel='popularity', ylabel='number_of_seasons'>,\n",
       "        <AxesSubplot:xlabel='vote_average', ylabel='number_of_seasons'>],\n",
       "       [<AxesSubplot:xlabel='number_of_seasons', ylabel='number_of_episodes'>,\n",
       "        <AxesSubplot:xlabel='number_of_episodes', ylabel='number_of_episodes'>,\n",
       "        <AxesSubplot:xlabel='popularity', ylabel='number_of_episodes'>,\n",
       "        <AxesSubplot:xlabel='vote_average', ylabel='number_of_episodes'>],\n",
       "       [<AxesSubplot:xlabel='number_of_seasons', ylabel='popularity'>,\n",
       "        <AxesSubplot:xlabel='number_of_episodes', ylabel='popularity'>,\n",
       "        <AxesSubplot:xlabel='popularity', ylabel='popularity'>,\n",
       "        <AxesSubplot:xlabel='vote_average', ylabel='popularity'>],\n",
       "       [<AxesSubplot:xlabel='number_of_seasons', ylabel='vote_average'>,\n",
       "        <AxesSubplot:xlabel='number_of_episodes', ylabel='vote_average'>,\n",
       "        <AxesSubplot:xlabel='popularity', ylabel='vote_average'>,\n",
       "        <AxesSubplot:xlabel='vote_average', ylabel='vote_average'>]],\n",
       "      dtype=object)"
      ]
     },
     "execution_count": 12,
     "metadata": {},
     "output_type": "execute_result"
    },
    {
     "data": {
      "image/png": "[encoded data removed]",
      "text/plain": [
       "<Figure size 864x576 with 16 Axes>"
      ]
     },
     "metadata": {
      "needs_background": "light"
     },
     "output_type": "display_data"
    }
   ],
   "source": [
    "from pandas.plotting import scatter_matrix\n",
    "scatter_matrix(imdb_df[num_attributes],figsize=(12,8))"
   ]
  },
  {
   "cell_type": "code",
   "execution_count": 13,
   "id": "89ed6f2e-1d91-4ab0-80ad-b96c76ca7c21",
   "metadata": {},
   "outputs": [
    {
     "data": {
      "text/plain": [
       "<AxesSubplot:>"
      ]
     },
     "execution_count": 13,
     "metadata": {},
     "output_type": "execute_result"
    },
    {
     "data": {
      "image/png": "[encoded data removed]",
      "text/plain": [
       "<Figure size 432x288 with 1 Axes>"
      ]
     },
     "metadata": {
      "needs_background": "light"
     },
     "output_type": "display_data"
    }
   ],
   "source": [
    "imdb_df['vote_average'].hist()"
   ]
  },
  {
   "cell_type": "code",
   "execution_count": 15,
   "id": "149c1b9d-23f7-4d0c-8801-0f62755ebc58",
   "metadata": {},
   "outputs": [],
   "source": [
    "U2_vote_avg = imdb_df[imdb_df['vote_average'] < 2]"
   ]
  },
  {
   "cell_type": "code",
   "execution_count": 17,
   "id": "5da59212-a32c-4243-b3d7-1d4e318d70f7",
   "metadata": {},
   "outputs": [
    {
     "data": {
      "text/html": [
       "<div>\n",
       "<style scoped>\n",
       "    .dataframe tbody tr th:only-of-type {\n",
       "        vertical-align: middle;\n",
       "    }\n",
       "\n",
       "    .dataframe tbody tr th {\n",
       "        vertical-align: top;\n",
       "    }\n",
       "\n",
       "    .dataframe thead th {\n",
       "        text-align: right;\n",
       "    }\n",
       "</style>\n",
       "<table border=\"1\" class=\"dataframe\">\n",
       "  <thead>\n",
       "    <tr style=\"text-align: right;\">\n",
       "      <th></th>\n",
       "      <th>id</th>\n",
       "      <th>number_of_seasons</th>\n",
       "      <th>number_of_episodes</th>\n",
       "      <th>vote_count</th>\n",
       "      <th>vote_average</th>\n",
       "      <th>popularity</th>\n",
       "    </tr>\n",
       "  </thead>\n",
       "  <tbody>\n",
       "    <tr>\n",
       "      <th>count</th>\n",
       "      <td>102864.000000</td>\n",
       "      <td>102864.000000</td>\n",
       "      <td>102864.000000</td>\n",
       "      <td>102864.000000</td>\n",
       "      <td>102864.000000</td>\n",
       "      <td>102864.000000</td>\n",
       "    </tr>\n",
       "    <tr>\n",
       "      <th>mean</th>\n",
       "      <td>110689.566641</td>\n",
       "      <td>1.190543</td>\n",
       "      <td>14.507554</td>\n",
       "      <td>0.017674</td>\n",
       "      <td>0.011627</td>\n",
       "      <td>1.742089</td>\n",
       "    </tr>\n",
       "    <tr>\n",
       "      <th>std</th>\n",
       "      <td>74579.055369</td>\n",
       "      <td>2.001383</td>\n",
       "      <td>52.004321</td>\n",
       "      <td>0.583932</td>\n",
       "      <td>0.111435</td>\n",
       "      <td>11.249700</td>\n",
       "    </tr>\n",
       "    <tr>\n",
       "      <th>min</th>\n",
       "      <td>5.000000</td>\n",
       "      <td>0.000000</td>\n",
       "      <td>0.000000</td>\n",
       "      <td>0.000000</td>\n",
       "      <td>0.000000</td>\n",
       "      <td>0.000000</td>\n",
       "    </tr>\n",
       "    <tr>\n",
       "      <th>25%</th>\n",
       "      <td>43475.750000</td>\n",
       "      <td>1.000000</td>\n",
       "      <td>1.000000</td>\n",
       "      <td>0.000000</td>\n",
       "      <td>0.000000</td>\n",
       "      <td>0.600000</td>\n",
       "    </tr>\n",
       "    <tr>\n",
       "      <th>50%</th>\n",
       "      <td>103105.500000</td>\n",
       "      <td>1.000000</td>\n",
       "      <td>4.000000</td>\n",
       "      <td>0.000000</td>\n",
       "      <td>0.000000</td>\n",
       "      <td>0.600000</td>\n",
       "    </tr>\n",
       "    <tr>\n",
       "      <th>75%</th>\n",
       "      <td>196292.250000</td>\n",
       "      <td>1.000000</td>\n",
       "      <td>12.000000</td>\n",
       "      <td>0.000000</td>\n",
       "      <td>0.000000</td>\n",
       "      <td>1.163250</td>\n",
       "    </tr>\n",
       "    <tr>\n",
       "      <th>max</th>\n",
       "      <td>236368.000000</td>\n",
       "      <td>111.000000</td>\n",
       "      <td>4279.000000</td>\n",
       "      <td>166.000000</td>\n",
       "      <td>1.900000</td>\n",
       "      <td>2071.972000</td>\n",
       "    </tr>\n",
       "  </tbody>\n",
       "</table>\n",
       "</div>"
      ],
      "text/plain": [
       "                  id  number_of_seasons  number_of_episodes     vote_count  \\\n",
       "count  102864.000000      102864.000000       102864.000000  102864.000000   \n",
       "mean   110689.566641           1.190543           14.507554       0.017674   \n",
       "std     74579.055369           2.001383           52.004321       0.583932   \n",
       "min         5.000000           0.000000            0.000000       0.000000   \n",
       "25%     43475.750000           1.000000            1.000000       0.000000   \n",
       "50%    103105.500000           1.000000            4.000000       0.000000   \n",
       "75%    196292.250000           1.000000           12.000000       0.000000   \n",
       "max    236368.000000         111.000000         4279.000000     166.000000   \n",
       "\n",
       "        vote_average     popularity  \n",
       "count  102864.000000  102864.000000  \n",
       "mean        0.011627       1.742089  \n",
       "std         0.111435      11.249700  \n",
       "min         0.000000       0.000000  \n",
       "25%         0.000000       0.600000  \n",
       "50%         0.000000       0.600000  \n",
       "75%         0.000000       1.163250  \n",
       "max         1.900000    2071.972000  "
      ]
     },
     "execution_count": 17,
     "metadata": {},
     "output_type": "execute_result"
    }
   ],
   "source": [
    "U2_vote_avg.describe()"
   ]
  },
  {
   "cell_type": "code",
   "execution_count": 20,
   "id": "a1242913-a7ef-424f-8c3a-6deea3946b5c",
   "metadata": {},
   "outputs": [
    {
     "data": {
      "text/plain": [
       "count    158566.000000\n",
       "mean         14.144300\n",
       "std         196.746395\n",
       "min           0.000000\n",
       "25%           0.000000\n",
       "50%           0.000000\n",
       "75%           1.000000\n",
       "max       21857.000000\n",
       "Name: vote_count, dtype: float64"
      ]
     },
     "execution_count": 20,
     "metadata": {},
     "output_type": "execute_result"
    }
   ],
   "source": [
    "imdb_df['vote_count'].describe()"
   ]
  },
  {
   "cell_type": "code",
   "execution_count": 23,
   "id": "bad82fbc-85cb-43db-a519-132957b53db5",
   "metadata": {},
   "outputs": [
    {
     "data": {
      "text/plain": [
       "<AxesSubplot:>"
      ]
     },
     "execution_count": 23,
     "metadata": {},
     "output_type": "execute_result"
    },
    {
     "data": {
      "image/png": "[encoded data removed]",
      "text/plain": [
       "<Figure size 432x288 with 1 Axes>"
      ]
     },
     "metadata": {
      "needs_background": "light"
     },
     "output_type": "display_data"
    }
   ],
   "source": [
    "imdb_df.boxplot(['vote_count'])"
   ]
  },
  {
   "cell_type": "code",
   "execution_count": 25,
   "id": "864d73ec-46c0-450b-a689-4bd98b663273",
   "metadata": {},
   "outputs": [
    {
     "data": {
      "text/plain": [
       "array([[<AxesSubplot:title={'center':'vote_count'}>]], dtype=object)"
      ]
     },
     "execution_count": 25,
     "metadata": {},
     "output_type": "execute_result"
    },
    {
     "data": {
      "image/png": "[encoded data removed]",
      "text/plain": [
       "<Figure size 432x288 with 1 Axes>"
      ]
     },
     "metadata": {
      "needs_background": "light"
     },
     "output_type": "display_data"
    }
   ],
   "source": [
    "imdb_df.hist(['vote_count'], bins= 100)"
   ]
  },
  {
   "cell_type": "code",
   "execution_count": 85,
   "id": "5fe60dea-219d-4c62-80dc-a83664a8aeec",
   "metadata": {},
   "outputs": [],
   "source": [
    "vote_count_bins = pd.cut(x = imdb_df['vote_count'], bins = [-1, 0,1000, 10000, 25000]).to_frame()"
   ]
  },
  {
   "cell_type": "code",
   "execution_count": 87,
   "id": "c3f4d42a-5d66-4df2-aac6-e40eb5475dd5",
   "metadata": {},
   "outputs": [],
   "source": [
    "vote_count_bins.reset_index(inplace=True)"
   ]
  },
  {
   "cell_type": "code",
   "execution_count": 88,
   "id": "8380d6fb-cf4f-43d0-a7d6-ac7beb9067dd",
   "metadata": {},
   "outputs": [
    {
     "data": {
      "text/html": [
       "<div>\n",
       "<style scoped>\n",
       "    .dataframe tbody tr th:only-of-type {\n",
       "        vertical-align: middle;\n",
       "    }\n",
       "\n",
       "    .dataframe tbody tr th {\n",
       "        vertical-align: top;\n",
       "    }\n",
       "\n",
       "    .dataframe thead th {\n",
       "        text-align: right;\n",
       "    }\n",
       "</style>\n",
       "<table border=\"1\" class=\"dataframe\">\n",
       "  <thead>\n",
       "    <tr style=\"text-align: right;\">\n",
       "      <th></th>\n",
       "      <th>name</th>\n",
       "      <th>vote_count</th>\n",
       "    </tr>\n",
       "  </thead>\n",
       "  <tbody>\n",
       "    <tr>\n",
       "      <th>0</th>\n",
       "      <td>Game of Thrones</td>\n",
       "      <td>(10000, 25000]</td>\n",
       "    </tr>\n",
       "    <tr>\n",
       "      <th>1</th>\n",
       "      <td>Money Heist</td>\n",
       "      <td>(10000, 25000]</td>\n",
       "    </tr>\n",
       "    <tr>\n",
       "      <th>2</th>\n",
       "      <td>Stranger Things</td>\n",
       "      <td>(10000, 25000]</td>\n",
       "    </tr>\n",
       "    <tr>\n",
       "      <th>3</th>\n",
       "      <td>The Walking Dead</td>\n",
       "      <td>(10000, 25000]</td>\n",
       "    </tr>\n",
       "    <tr>\n",
       "      <th>4</th>\n",
       "      <td>Lucifer</td>\n",
       "      <td>(10000, 25000]</td>\n",
       "    </tr>\n",
       "    <tr>\n",
       "      <th>...</th>\n",
       "      <td>...</td>\n",
       "      <td>...</td>\n",
       "    </tr>\n",
       "    <tr>\n",
       "      <th>158561</th>\n",
       "      <td>天罚-二战全纪实</td>\n",
       "      <td>(-1, 0]</td>\n",
       "    </tr>\n",
       "    <tr>\n",
       "      <th>158562</th>\n",
       "      <td>我们这一摊</td>\n",
       "      <td>(-1, 0]</td>\n",
       "    </tr>\n",
       "    <tr>\n",
       "      <th>158563</th>\n",
       "      <td>山里来了熊孩子</td>\n",
       "      <td>(-1, 0]</td>\n",
       "    </tr>\n",
       "    <tr>\n",
       "      <th>158564</th>\n",
       "      <td>开心超人联盟之勇敢之城1——棋兽传奇</td>\n",
       "      <td>(-1, 0]</td>\n",
       "    </tr>\n",
       "    <tr>\n",
       "      <th>158565</th>\n",
       "      <td>Anhoniyon Ka Andhera</td>\n",
       "      <td>(-1, 0]</td>\n",
       "    </tr>\n",
       "  </tbody>\n",
       "</table>\n",
       "<p>158566 rows × 2 columns</p>\n",
       "</div>"
      ],
      "text/plain": [
       "                        name      vote_count\n",
       "0            Game of Thrones  (10000, 25000]\n",
       "1                Money Heist  (10000, 25000]\n",
       "2            Stranger Things  (10000, 25000]\n",
       "3           The Walking Dead  (10000, 25000]\n",
       "4                    Lucifer  (10000, 25000]\n",
       "...                      ...             ...\n",
       "158561              天罚-二战全纪实         (-1, 0]\n",
       "158562                 我们这一摊         (-1, 0]\n",
       "158563               山里来了熊孩子         (-1, 0]\n",
       "158564    开心超人联盟之勇敢之城1——棋兽传奇         (-1, 0]\n",
       "158565  Anhoniyon Ka Andhera         (-1, 0]\n",
       "\n",
       "[158566 rows x 2 columns]"
      ]
     },
     "execution_count": 88,
     "metadata": {},
     "output_type": "execute_result"
    }
   ],
   "source": [
    "vote_count_bins"
   ]
  },
  {
   "cell_type": "code",
   "execution_count": 89,
   "id": "f8854d38-838b-43ee-a709-99253580172c",
   "metadata": {},
   "outputs": [
    {
     "data": {
      "text/html": [
       "<div>\n",
       "<style scoped>\n",
       "    .dataframe tbody tr th:only-of-type {\n",
       "        vertical-align: middle;\n",
       "    }\n",
       "\n",
       "    .dataframe tbody tr th {\n",
       "        vertical-align: top;\n",
       "    }\n",
       "\n",
       "    .dataframe thead th {\n",
       "        text-align: right;\n",
       "    }\n",
       "</style>\n",
       "<table border=\"1\" class=\"dataframe\">\n",
       "  <thead>\n",
       "    <tr style=\"text-align: right;\">\n",
       "      <th></th>\n",
       "      <th>name</th>\n",
       "    </tr>\n",
       "    <tr>\n",
       "      <th>vote_count</th>\n",
       "      <th></th>\n",
       "    </tr>\n",
       "  </thead>\n",
       "  <tbody>\n",
       "    <tr>\n",
       "      <th>(-1, 0]</th>\n",
       "      <td>101695</td>\n",
       "    </tr>\n",
       "    <tr>\n",
       "      <th>(0, 1000]</th>\n",
       "      <td>56468</td>\n",
       "    </tr>\n",
       "    <tr>\n",
       "      <th>(1000, 10000]</th>\n",
       "      <td>385</td>\n",
       "    </tr>\n",
       "    <tr>\n",
       "      <th>(10000, 25000]</th>\n",
       "      <td>13</td>\n",
       "    </tr>\n",
       "  </tbody>\n",
       "</table>\n",
       "</div>"
      ],
      "text/plain": [
       "                  name\n",
       "vote_count            \n",
       "(-1, 0]         101695\n",
       "(0, 1000]        56468\n",
       "(1000, 10000]      385\n",
       "(10000, 25000]      13"
      ]
     },
     "execution_count": 89,
     "metadata": {},
     "output_type": "execute_result"
    }
   ],
   "source": [
    "vote_count_bins.groupby(['vote_count']).count()"
   ]
  },
  {
   "cell_type": "code",
   "execution_count": 118,
   "id": "45f798a3-ca39-4c60-a5c7-8be8d79d96e7",
   "metadata": {},
   "outputs": [
    {
     "data": {
      "text/html": [
       "<div>\n",
       "<style scoped>\n",
       "    .dataframe tbody tr th:only-of-type {\n",
       "        vertical-align: middle;\n",
       "    }\n",
       "\n",
       "    .dataframe tbody tr th {\n",
       "        vertical-align: top;\n",
       "    }\n",
       "\n",
       "    .dataframe thead th {\n",
       "        text-align: right;\n",
       "    }\n",
       "</style>\n",
       "<table border=\"1\" class=\"dataframe\">\n",
       "  <thead>\n",
       "    <tr style=\"text-align: right;\">\n",
       "      <th></th>\n",
       "      <th>id</th>\n",
       "      <th>name</th>\n",
       "      <th>number_of_seasons</th>\n",
       "      <th>number_of_episodes</th>\n",
       "      <th>original_language</th>\n",
       "      <th>vote_count</th>\n",
       "      <th>vote_average</th>\n",
       "      <th>overview</th>\n",
       "      <th>adult</th>\n",
       "      <th>backdrop_path</th>\n",
       "      <th>...</th>\n",
       "      <th>tagline</th>\n",
       "      <th>genres</th>\n",
       "      <th>created_by</th>\n",
       "      <th>languages</th>\n",
       "      <th>networks</th>\n",
       "      <th>origin_country</th>\n",
       "      <th>spoken_languages</th>\n",
       "      <th>production_companies</th>\n",
       "      <th>production_countries</th>\n",
       "      <th>episode_run_time</th>\n",
       "    </tr>\n",
       "  </thead>\n",
       "  <tbody>\n",
       "    <tr>\n",
       "      <th>56866</th>\n",
       "      <td>233552</td>\n",
       "      <td>绝色小神医</td>\n",
       "      <td>1</td>\n",
       "      <td>1</td>\n",
       "      <td>zh</td>\n",
       "      <td>0</td>\n",
       "      <td>0.0</td>\n",
       "      <td>NaN</td>\n",
       "      <td>False</td>\n",
       "      <td>NaN</td>\n",
       "      <td>...</td>\n",
       "      <td>NaN</td>\n",
       "      <td>NaN</td>\n",
       "      <td>NaN</td>\n",
       "      <td>NaN</td>\n",
       "      <td>NaN</td>\n",
       "      <td>CN</td>\n",
       "      <td>NaN</td>\n",
       "      <td>NaN</td>\n",
       "      <td>China</td>\n",
       "      <td>0</td>\n",
       "    </tr>\n",
       "    <tr>\n",
       "      <th>56867</th>\n",
       "      <td>60684</td>\n",
       "      <td>אבודים באפריקה</td>\n",
       "      <td>2</td>\n",
       "      <td>11</td>\n",
       "      <td>he</td>\n",
       "      <td>0</td>\n",
       "      <td>0.0</td>\n",
       "      <td>NaN</td>\n",
       "      <td>False</td>\n",
       "      <td>NaN</td>\n",
       "      <td>...</td>\n",
       "      <td>NaN</td>\n",
       "      <td>NaN</td>\n",
       "      <td>Ilan Shefler_ Itay Reicher_ Yuval Sheferman</td>\n",
       "      <td>en_ he</td>\n",
       "      <td>yes</td>\n",
       "      <td>IL</td>\n",
       "      <td>English_ עִבְרִית</td>\n",
       "      <td>Kuperman Productions</td>\n",
       "      <td>Israel_ South Africa</td>\n",
       "      <td>0</td>\n",
       "    </tr>\n",
       "    <tr>\n",
       "      <th>56868</th>\n",
       "      <td>22928</td>\n",
       "      <td>Shark In the Park</td>\n",
       "      <td>0</td>\n",
       "      <td>0</td>\n",
       "      <td>en</td>\n",
       "      <td>0</td>\n",
       "      <td>0.0</td>\n",
       "      <td>Shark in the Park was a New Zealand television...</td>\n",
       "      <td>False</td>\n",
       "      <td>NaN</td>\n",
       "      <td>...</td>\n",
       "      <td>NaN</td>\n",
       "      <td>NaN</td>\n",
       "      <td>NaN</td>\n",
       "      <td>NaN</td>\n",
       "      <td>NaN</td>\n",
       "      <td>NZ</td>\n",
       "      <td>NaN</td>\n",
       "      <td>NaN</td>\n",
       "      <td>NaN</td>\n",
       "      <td>60</td>\n",
       "    </tr>\n",
       "    <tr>\n",
       "      <th>56869</th>\n",
       "      <td>9394</td>\n",
       "      <td>Manemarak</td>\n",
       "      <td>0</td>\n",
       "      <td>0</td>\n",
       "      <td>en</td>\n",
       "      <td>0</td>\n",
       "      <td>0.0</td>\n",
       "      <td>Manemarak is an Afrikaans edutainment show abo...</td>\n",
       "      <td>False</td>\n",
       "      <td>NaN</td>\n",
       "      <td>...</td>\n",
       "      <td>NaN</td>\n",
       "      <td>NaN</td>\n",
       "      <td>NaN</td>\n",
       "      <td>NaN</td>\n",
       "      <td>NaN</td>\n",
       "      <td>NaN</td>\n",
       "      <td>NaN</td>\n",
       "      <td>NaN</td>\n",
       "      <td>NaN</td>\n",
       "      <td>0</td>\n",
       "    </tr>\n",
       "    <tr>\n",
       "      <th>56870</th>\n",
       "      <td>22918</td>\n",
       "      <td>Shirley Abicair In Australia</td>\n",
       "      <td>0</td>\n",
       "      <td>0</td>\n",
       "      <td>en</td>\n",
       "      <td>0</td>\n",
       "      <td>0.0</td>\n",
       "      <td>NaN</td>\n",
       "      <td>False</td>\n",
       "      <td>NaN</td>\n",
       "      <td>...</td>\n",
       "      <td>NaN</td>\n",
       "      <td>NaN</td>\n",
       "      <td>NaN</td>\n",
       "      <td>NaN</td>\n",
       "      <td>NaN</td>\n",
       "      <td>AU</td>\n",
       "      <td>NaN</td>\n",
       "      <td>NaN</td>\n",
       "      <td>NaN</td>\n",
       "      <td>30</td>\n",
       "    </tr>\n",
       "    <tr>\n",
       "      <th>...</th>\n",
       "      <td>...</td>\n",
       "      <td>...</td>\n",
       "      <td>...</td>\n",
       "      <td>...</td>\n",
       "      <td>...</td>\n",
       "      <td>...</td>\n",
       "      <td>...</td>\n",
       "      <td>...</td>\n",
       "      <td>...</td>\n",
       "      <td>...</td>\n",
       "      <td>...</td>\n",
       "      <td>...</td>\n",
       "      <td>...</td>\n",
       "      <td>...</td>\n",
       "      <td>...</td>\n",
       "      <td>...</td>\n",
       "      <td>...</td>\n",
       "      <td>...</td>\n",
       "      <td>...</td>\n",
       "      <td>...</td>\n",
       "      <td>...</td>\n",
       "    </tr>\n",
       "    <tr>\n",
       "      <th>158561</th>\n",
       "      <td>235768</td>\n",
       "      <td>天罚-二战全纪实</td>\n",
       "      <td>1</td>\n",
       "      <td>100</td>\n",
       "      <td>zh</td>\n",
       "      <td>0</td>\n",
       "      <td>0.0</td>\n",
       "      <td>NaN</td>\n",
       "      <td>False</td>\n",
       "      <td>NaN</td>\n",
       "      <td>...</td>\n",
       "      <td>NaN</td>\n",
       "      <td>Documentary_ War &amp; Politics</td>\n",
       "      <td>NaN</td>\n",
       "      <td>zh</td>\n",
       "      <td>NaN</td>\n",
       "      <td>CN</td>\n",
       "      <td>普通话</td>\n",
       "      <td>NaN</td>\n",
       "      <td>NaN</td>\n",
       "      <td>0</td>\n",
       "    </tr>\n",
       "    <tr>\n",
       "      <th>158562</th>\n",
       "      <td>235767</td>\n",
       "      <td>我们这一摊</td>\n",
       "      <td>1</td>\n",
       "      <td>13</td>\n",
       "      <td>zh</td>\n",
       "      <td>0</td>\n",
       "      <td>0.0</td>\n",
       "      <td>NaN</td>\n",
       "      <td>False</td>\n",
       "      <td>NaN</td>\n",
       "      <td>...</td>\n",
       "      <td>NaN</td>\n",
       "      <td>Reality</td>\n",
       "      <td>NaN</td>\n",
       "      <td>NaN</td>\n",
       "      <td>NaN</td>\n",
       "      <td>CN</td>\n",
       "      <td>NaN</td>\n",
       "      <td>NaN</td>\n",
       "      <td>NaN</td>\n",
       "      <td>0</td>\n",
       "    </tr>\n",
       "    <tr>\n",
       "      <th>158563</th>\n",
       "      <td>235766</td>\n",
       "      <td>山里来了熊孩子</td>\n",
       "      <td>1</td>\n",
       "      <td>13</td>\n",
       "      <td>zh</td>\n",
       "      <td>0</td>\n",
       "      <td>0.0</td>\n",
       "      <td>NaN</td>\n",
       "      <td>False</td>\n",
       "      <td>/qAdXlecuPyg2jb2GbRXzHEUcpmw.jpg</td>\n",
       "      <td>...</td>\n",
       "      <td>NaN</td>\n",
       "      <td>Reality</td>\n",
       "      <td>NaN</td>\n",
       "      <td>NaN</td>\n",
       "      <td>NaN</td>\n",
       "      <td>CN</td>\n",
       "      <td>NaN</td>\n",
       "      <td>NaN</td>\n",
       "      <td>NaN</td>\n",
       "      <td>0</td>\n",
       "    </tr>\n",
       "    <tr>\n",
       "      <th>158564</th>\n",
       "      <td>235765</td>\n",
       "      <td>开心超人联盟之勇敢之城1——棋兽传奇</td>\n",
       "      <td>1</td>\n",
       "      <td>6</td>\n",
       "      <td>zh</td>\n",
       "      <td>0</td>\n",
       "      <td>0.0</td>\n",
       "      <td>NaN</td>\n",
       "      <td>False</td>\n",
       "      <td>/ksuAmIZRkBMshJtkHtMDwyYLmDh.jpg</td>\n",
       "      <td>...</td>\n",
       "      <td>NaN</td>\n",
       "      <td>Animation_ Kids</td>\n",
       "      <td>NaN</td>\n",
       "      <td>NaN</td>\n",
       "      <td>iQiyi_ Youku_ Mango TV_ Tencent Video_ Aniworl...</td>\n",
       "      <td>CN</td>\n",
       "      <td>NaN</td>\n",
       "      <td>广东明星创意动画有限公司</td>\n",
       "      <td>NaN</td>\n",
       "      <td>0</td>\n",
       "    </tr>\n",
       "    <tr>\n",
       "      <th>158565</th>\n",
       "      <td>38212</td>\n",
       "      <td>Anhoniyon Ka Andhera</td>\n",
       "      <td>0</td>\n",
       "      <td>0</td>\n",
       "      <td>en</td>\n",
       "      <td>0</td>\n",
       "      <td>0.0</td>\n",
       "      <td>Anhoniyon Ka Andhera is a weekly Indian televi...</td>\n",
       "      <td>False</td>\n",
       "      <td>NaN</td>\n",
       "      <td>...</td>\n",
       "      <td>NaN</td>\n",
       "      <td>NaN</td>\n",
       "      <td>NaN</td>\n",
       "      <td>en</td>\n",
       "      <td>Colors</td>\n",
       "      <td>IO</td>\n",
       "      <td>English</td>\n",
       "      <td>NaN</td>\n",
       "      <td>NaN</td>\n",
       "      <td>60</td>\n",
       "    </tr>\n",
       "  </tbody>\n",
       "</table>\n",
       "<p>101700 rows × 29 columns</p>\n",
       "</div>"
      ],
      "text/plain": [
       "            id                          name  number_of_seasons  \\\n",
       "56866   233552                         绝色小神医                  1   \n",
       "56867    60684                אבודים באפריקה                  2   \n",
       "56868    22928             Shark In the Park                  0   \n",
       "56869     9394                     Manemarak                  0   \n",
       "56870    22918  Shirley Abicair In Australia                  0   \n",
       "...        ...                           ...                ...   \n",
       "158561  235768                      天罚-二战全纪实                  1   \n",
       "158562  235767                         我们这一摊                  1   \n",
       "158563  235766                       山里来了熊孩子                  1   \n",
       "158564  235765            开心超人联盟之勇敢之城1——棋兽传奇                  1   \n",
       "158565   38212          Anhoniyon Ka Andhera                  0   \n",
       "\n",
       "        number_of_episodes original_language  vote_count  vote_average  \\\n",
       "56866                    1                zh           0           0.0   \n",
       "56867                   11                he           0           0.0   \n",
       "56868                    0                en           0           0.0   \n",
       "56869                    0                en           0           0.0   \n",
       "56870                    0                en           0           0.0   \n",
       "...                    ...               ...         ...           ...   \n",
       "158561                 100                zh           0           0.0   \n",
       "158562                  13                zh           0           0.0   \n",
       "158563                  13                zh           0           0.0   \n",
       "158564                   6                zh           0           0.0   \n",
       "158565                   0                en           0           0.0   \n",
       "\n",
       "                                                 overview  adult  \\\n",
       "56866                                                 NaN  False   \n",
       "56867                                                 NaN  False   \n",
       "56868   Shark in the Park was a New Zealand television...  False   \n",
       "56869   Manemarak is an Afrikaans edutainment show abo...  False   \n",
       "56870                                                 NaN  False   \n",
       "...                                                   ...    ...   \n",
       "158561                                                NaN  False   \n",
       "158562                                                NaN  False   \n",
       "158563                                                NaN  False   \n",
       "158564                                                NaN  False   \n",
       "158565  Anhoniyon Ka Andhera is a weekly Indian televi...  False   \n",
       "\n",
       "                           backdrop_path  ... tagline  \\\n",
       "56866                                NaN  ...     NaN   \n",
       "56867                                NaN  ...     NaN   \n",
       "56868                                NaN  ...     NaN   \n",
       "56869                                NaN  ...     NaN   \n",
       "56870                                NaN  ...     NaN   \n",
       "...                                  ...  ...     ...   \n",
       "158561                               NaN  ...     NaN   \n",
       "158562                               NaN  ...     NaN   \n",
       "158563  /qAdXlecuPyg2jb2GbRXzHEUcpmw.jpg  ...     NaN   \n",
       "158564  /ksuAmIZRkBMshJtkHtMDwyYLmDh.jpg  ...     NaN   \n",
       "158565                               NaN  ...     NaN   \n",
       "\n",
       "                             genres  \\\n",
       "56866                           NaN   \n",
       "56867                           NaN   \n",
       "56868                           NaN   \n",
       "56869                           NaN   \n",
       "56870                           NaN   \n",
       "...                             ...   \n",
       "158561  Documentary_ War & Politics   \n",
       "158562                      Reality   \n",
       "158563                      Reality   \n",
       "158564              Animation_ Kids   \n",
       "158565                          NaN   \n",
       "\n",
       "                                         created_by  languages  \\\n",
       "56866                                           NaN        NaN   \n",
       "56867   Ilan Shefler_ Itay Reicher_ Yuval Sheferman     en_ he   \n",
       "56868                                           NaN        NaN   \n",
       "56869                                           NaN        NaN   \n",
       "56870                                           NaN        NaN   \n",
       "...                                             ...        ...   \n",
       "158561                                          NaN         zh   \n",
       "158562                                          NaN        NaN   \n",
       "158563                                          NaN        NaN   \n",
       "158564                                          NaN        NaN   \n",
       "158565                                          NaN         en   \n",
       "\n",
       "                                                 networks  origin_country  \\\n",
       "56866                                                 NaN              CN   \n",
       "56867                                                 yes              IL   \n",
       "56868                                                 NaN              NZ   \n",
       "56869                                                 NaN             NaN   \n",
       "56870                                                 NaN              AU   \n",
       "...                                                   ...             ...   \n",
       "158561                                                NaN              CN   \n",
       "158562                                                NaN              CN   \n",
       "158563                                                NaN              CN   \n",
       "158564  iQiyi_ Youku_ Mango TV_ Tencent Video_ Aniworl...              CN   \n",
       "158565                                             Colors              IO   \n",
       "\n",
       "         spoken_languages  production_companies  production_countries  \\\n",
       "56866                 NaN                   NaN                 China   \n",
       "56867   English_ עִבְרִית  Kuperman Productions  Israel_ South Africa   \n",
       "56868                 NaN                   NaN                   NaN   \n",
       "56869                 NaN                   NaN                   NaN   \n",
       "56870                 NaN                   NaN                   NaN   \n",
       "...                   ...                   ...                   ...   \n",
       "158561                普通话                   NaN                   NaN   \n",
       "158562                NaN                   NaN                   NaN   \n",
       "158563                NaN                   NaN                   NaN   \n",
       "158564                NaN          广东明星创意动画有限公司                   NaN   \n",
       "158565            English                   NaN                   NaN   \n",
       "\n",
       "       episode_run_time  \n",
       "56866                 0  \n",
       "56867                 0  \n",
       "56868                60  \n",
       "56869                 0  \n",
       "56870                30  \n",
       "...                 ...  \n",
       "158561                0  \n",
       "158562                0  \n",
       "158563                0  \n",
       "158564                0  \n",
       "158565               60  \n",
       "\n",
       "[101700 rows x 29 columns]"
      ]
     },
     "execution_count": 118,
     "metadata": {},
     "output_type": "execute_result"
    }
   ],
   "source": [
    "imdb_df[imdb_df['vote_count']==0]"
   ]
  },
  {
   "cell_type": "code",
   "execution_count": 119,
   "id": "75f85f1a-8425-42cd-811d-d105502e9653",
   "metadata": {},
   "outputs": [],
   "source": [
    "imdb_df_model = imdb_df[imdb_df['vote_count']!=0]"
   ]
  },
  {
   "cell_type": "code",
   "execution_count": 95,
   "id": "00eceee5-175c-43cd-904f-c00a06644fd6",
   "metadata": {},
   "outputs": [
    {
     "data": {
      "text/plain": [
       "array([[<AxesSubplot:xlabel='number_of_seasons', ylabel='number_of_seasons'>,\n",
       "        <AxesSubplot:xlabel='number_of_episodes', ylabel='number_of_seasons'>,\n",
       "        <AxesSubplot:xlabel='popularity', ylabel='number_of_seasons'>,\n",
       "        <AxesSubplot:xlabel='vote_average', ylabel='number_of_seasons'>],\n",
       "       [<AxesSubplot:xlabel='number_of_seasons', ylabel='number_of_episodes'>,\n",
       "        <AxesSubplot:xlabel='number_of_episodes', ylabel='number_of_episodes'>,\n",
       "        <AxesSubplot:xlabel='popularity', ylabel='number_of_episodes'>,\n",
       "        <AxesSubplot:xlabel='vote_average', ylabel='number_of_episodes'>],\n",
       "       [<AxesSubplot:xlabel='number_of_seasons', ylabel='popularity'>,\n",
       "        <AxesSubplot:xlabel='number_of_episodes', ylabel='popularity'>,\n",
       "        <AxesSubplot:xlabel='popularity', ylabel='popularity'>,\n",
       "        <AxesSubplot:xlabel='vote_average', ylabel='popularity'>],\n",
       "       [<AxesSubplot:xlabel='number_of_seasons', ylabel='vote_average'>,\n",
       "        <AxesSubplot:xlabel='number_of_episodes', ylabel='vote_average'>,\n",
       "        <AxesSubplot:xlabel='popularity', ylabel='vote_average'>,\n",
       "        <AxesSubplot:xlabel='vote_average', ylabel='vote_average'>]],\n",
       "      dtype=object)"
      ]
     },
     "execution_count": 95,
     "metadata": {},
     "output_type": "execute_result"
    },
    {
     "data": {
      "image/png": "[encoded data removed]",
      "text/plain": [
       "<Figure size 864x576 with 16 Axes>"
      ]
     },
     "metadata": {
      "needs_background": "light"
     },
     "output_type": "display_data"
    }
   ],
   "source": [
    "scatter_matrix(imdb_df_model[num_attributes],figsize=(12,8))"
   ]
  },
  {
   "cell_type": "code",
   "execution_count": 98,
   "id": "7f719095-98d1-4ca0-8cf9-f5ff2fb7e06c",
   "metadata": {},
   "outputs": [
    {
     "data": {
      "text/plain": [
       "array([[<AxesSubplot:title={'center':'number_of_seasons'}>,\n",
       "        <AxesSubplot:title={'center':'number_of_episodes'}>],\n",
       "       [<AxesSubplot:title={'center':'popularity'}>,\n",
       "        <AxesSubplot:title={'center':'vote_average'}>]], dtype=object)"
      ]
     },
     "execution_count": 98,
     "metadata": {},
     "output_type": "execute_result"
    },
    {
     "data": {
      "image/png": "[encoded data removed]",
      "text/plain": [
       "<Figure size 1440x1440 with 4 Axes>"
      ]
     },
     "metadata": {
      "needs_background": "light"
     },
     "output_type": "display_data"
    }
   ],
   "source": [
    "imdb_df_model[num_attributes].hist(figsize =(20,20))"
   ]
  },
  {
   "cell_type": "code",
   "execution_count": 120,
   "id": "5ff1292e-6da2-4a3d-9c73-f065646463b2",
   "metadata": {},
   "outputs": [
    {
     "name": "stdout",
     "output_type": "stream",
     "text": [
      "<class 'pandas.core.frame.DataFrame'>\n",
      "Int64Index: 56866 entries, 0 to 56865\n",
      "Data columns (total 29 columns):\n",
      " #   Column                Non-Null Count  Dtype  \n",
      "---  ------                --------------  -----  \n",
      " 0   id                    56866 non-null  int64  \n",
      " 1   name                  56866 non-null  object \n",
      " 2   number_of_seasons     56866 non-null  int64  \n",
      " 3   number_of_episodes    56866 non-null  int64  \n",
      " 4   original_language     56866 non-null  object \n",
      " 5   vote_count            56866 non-null  int64  \n",
      " 6   vote_average          56866 non-null  float64\n",
      " 7   overview              43462 non-null  object \n",
      " 8   adult                 56866 non-null  bool   \n",
      " 9   backdrop_path         42788 non-null  object \n",
      " 10  first_air_date        54566 non-null  object \n",
      " 11  last_air_date         54968 non-null  object \n",
      " 12  homepage              28671 non-null  object \n",
      " 13  in_production         56866 non-null  bool   \n",
      " 14  original_name         56866 non-null  object \n",
      " 15  popularity            56866 non-null  float64\n",
      " 16  poster_path           51163 non-null  object \n",
      " 17  type                  56866 non-null  object \n",
      " 18  status                56866 non-null  object \n",
      " 19  tagline               4216 non-null   object \n",
      " 20  genres                48954 non-null  object \n",
      " 21  created_by            22102 non-null  object \n",
      " 22  languages             51089 non-null  object \n",
      " 23  networks              47198 non-null  object \n",
      " 24  origin_country        51922 non-null  object \n",
      " 25  spoken_languages      50906 non-null  object \n",
      " 26  production_companies  33084 non-null  object \n",
      " 27  production_countries  38530 non-null  object \n",
      " 28  episode_run_time      56866 non-null  int64  \n",
      "dtypes: bool(2), float64(2), int64(5), object(20)\n",
      "memory usage: 12.3+ MB\n"
     ]
    }
   ],
   "source": [
    "imdb_df_model.info()"
   ]
  },
  {
   "cell_type": "code",
   "execution_count": 123,
   "id": "90bab257-fb8a-40f6-a39c-817ea68c8da5",
   "metadata": {},
   "outputs": [],
   "source": [
    "from sklearn.model_selection import train_test_split"
   ]
  },
  {
   "cell_type": "code",
   "execution_count": 131,
   "id": "12e898e0-d055-410a-b3a9-b5aff0a1449f",
   "metadata": {},
   "outputs": [],
   "source": [
    "train_set, test_set = train_test_split(imdb_df_model, test_size=0.2, random_state=42)\n",
    "train_set, validation_set = train_test_split(train_set, test_size=0.2, random_state=42)"
   ]
  },
  {
   "cell_type": "code",
   "execution_count": 137,
   "id": "1abe3427-fc6c-4198-b93c-7a434bbe5dfb",
   "metadata": {},
   "outputs": [
    {
     "data": {
      "text/html": [
       "<div>\n",
       "<style scoped>\n",
       "    .dataframe tbody tr th:only-of-type {\n",
       "        vertical-align: middle;\n",
       "    }\n",
       "\n",
       "    .dataframe tbody tr th {\n",
       "        vertical-align: top;\n",
       "    }\n",
       "\n",
       "    .dataframe thead th {\n",
       "        text-align: right;\n",
       "    }\n",
       "</style>\n",
       "<table border=\"1\" class=\"dataframe\">\n",
       "  <thead>\n",
       "    <tr style=\"text-align: right;\">\n",
       "      <th></th>\n",
       "      <th>id</th>\n",
       "      <th>number_of_seasons</th>\n",
       "      <th>number_of_episodes</th>\n",
       "      <th>vote_count</th>\n",
       "      <th>vote_average</th>\n",
       "      <th>popularity</th>\n",
       "      <th>episode_run_time</th>\n",
       "    </tr>\n",
       "  </thead>\n",
       "  <tbody>\n",
       "    <tr>\n",
       "      <th>count</th>\n",
       "      <td>36393.000000</td>\n",
       "      <td>36393.000000</td>\n",
       "      <td>36393.000000</td>\n",
       "      <td>36393.000000</td>\n",
       "      <td>36393.000000</td>\n",
       "      <td>36393.000000</td>\n",
       "      <td>36393.000000</td>\n",
       "    </tr>\n",
       "    <tr>\n",
       "      <th>mean</th>\n",
       "      <td>88771.448493</td>\n",
       "      <td>2.270574</td>\n",
       "      <td>45.525293</td>\n",
       "      <td>41.064628</td>\n",
       "      <td>6.806052</td>\n",
       "      <td>13.588741</td>\n",
       "      <td>33.782321</td>\n",
       "    </tr>\n",
       "    <tr>\n",
       "      <th>std</th>\n",
       "      <td>62322.435678</td>\n",
       "      <td>4.307332</td>\n",
       "      <td>210.669184</td>\n",
       "      <td>357.691698</td>\n",
       "      <td>2.046676</td>\n",
       "      <td>66.435446</td>\n",
       "      <td>50.106964</td>\n",
       "    </tr>\n",
       "    <tr>\n",
       "      <th>min</th>\n",
       "      <td>1.000000</td>\n",
       "      <td>0.000000</td>\n",
       "      <td>0.000000</td>\n",
       "      <td>1.000000</td>\n",
       "      <td>0.000000</td>\n",
       "      <td>0.000000</td>\n",
       "      <td>0.000000</td>\n",
       "    </tr>\n",
       "    <tr>\n",
       "      <th>25%</th>\n",
       "      <td>42183.000000</td>\n",
       "      <td>1.000000</td>\n",
       "      <td>6.000000</td>\n",
       "      <td>1.000000</td>\n",
       "      <td>6.000000</td>\n",
       "      <td>1.202000</td>\n",
       "      <td>0.000000</td>\n",
       "    </tr>\n",
       "    <tr>\n",
       "      <th>50%</th>\n",
       "      <td>79981.000000</td>\n",
       "      <td>1.000000</td>\n",
       "      <td>13.000000</td>\n",
       "      <td>2.000000</td>\n",
       "      <td>7.000000</td>\n",
       "      <td>2.733000</td>\n",
       "      <td>30.000000</td>\n",
       "    </tr>\n",
       "    <tr>\n",
       "      <th>75%</th>\n",
       "      <td>118650.000000</td>\n",
       "      <td>2.000000</td>\n",
       "      <td>34.000000</td>\n",
       "      <td>7.000000</td>\n",
       "      <td>8.000000</td>\n",
       "      <td>7.738000</td>\n",
       "      <td>48.000000</td>\n",
       "    </tr>\n",
       "    <tr>\n",
       "      <th>max</th>\n",
       "      <td>236313.000000</td>\n",
       "      <td>240.000000</td>\n",
       "      <td>15704.000000</td>\n",
       "      <td>21857.000000</td>\n",
       "      <td>10.000000</td>\n",
       "      <td>3707.008000</td>\n",
       "      <td>4125.000000</td>\n",
       "    </tr>\n",
       "  </tbody>\n",
       "</table>\n",
       "</div>"
      ],
      "text/plain": [
       "                  id  number_of_seasons  number_of_episodes    vote_count  \\\n",
       "count   36393.000000       36393.000000        36393.000000  36393.000000   \n",
       "mean    88771.448493           2.270574           45.525293     41.064628   \n",
       "std     62322.435678           4.307332          210.669184    357.691698   \n",
       "min         1.000000           0.000000            0.000000      1.000000   \n",
       "25%     42183.000000           1.000000            6.000000      1.000000   \n",
       "50%     79981.000000           1.000000           13.000000      2.000000   \n",
       "75%    118650.000000           2.000000           34.000000      7.000000   \n",
       "max    236313.000000         240.000000        15704.000000  21857.000000   \n",
       "\n",
       "       vote_average    popularity  episode_run_time  \n",
       "count  36393.000000  36393.000000      36393.000000  \n",
       "mean       6.806052     13.588741         33.782321  \n",
       "std        2.046676     66.435446         50.106964  \n",
       "min        0.000000      0.000000          0.000000  \n",
       "25%        6.000000      1.202000          0.000000  \n",
       "50%        7.000000      2.733000         30.000000  \n",
       "75%        8.000000      7.738000         48.000000  \n",
       "max       10.000000   3707.008000       4125.000000  "
      ]
     },
     "execution_count": 137,
     "metadata": {},
     "output_type": "execute_result"
    }
   ],
   "source": [
    "train_set.describe()"
   ]
  },
  {
   "cell_type": "code",
   "execution_count": 133,
   "id": "cdc04a4e-9a4a-4cb8-ae7b-f603630edead",
   "metadata": {},
   "outputs": [
    {
     "data": {
      "text/html": [
       "<div>\n",
       "<style scoped>\n",
       "    .dataframe tbody tr th:only-of-type {\n",
       "        vertical-align: middle;\n",
       "    }\n",
       "\n",
       "    .dataframe tbody tr th {\n",
       "        vertical-align: top;\n",
       "    }\n",
       "\n",
       "    .dataframe thead th {\n",
       "        text-align: right;\n",
       "    }\n",
       "</style>\n",
       "<table border=\"1\" class=\"dataframe\">\n",
       "  <thead>\n",
       "    <tr style=\"text-align: right;\">\n",
       "      <th></th>\n",
       "      <th>id</th>\n",
       "      <th>number_of_seasons</th>\n",
       "      <th>number_of_episodes</th>\n",
       "      <th>vote_count</th>\n",
       "      <th>vote_average</th>\n",
       "      <th>popularity</th>\n",
       "      <th>episode_run_time</th>\n",
       "    </tr>\n",
       "  </thead>\n",
       "  <tbody>\n",
       "    <tr>\n",
       "      <th>count</th>\n",
       "      <td>9099.000000</td>\n",
       "      <td>9099.000000</td>\n",
       "      <td>9099.000000</td>\n",
       "      <td>9099.000000</td>\n",
       "      <td>9099.000000</td>\n",
       "      <td>9099.000000</td>\n",
       "      <td>9099.000000</td>\n",
       "    </tr>\n",
       "    <tr>\n",
       "      <th>mean</th>\n",
       "      <td>88488.947467</td>\n",
       "      <td>2.242444</td>\n",
       "      <td>43.740191</td>\n",
       "      <td>34.369711</td>\n",
       "      <td>6.850998</td>\n",
       "      <td>13.291767</td>\n",
       "      <td>34.211122</td>\n",
       "    </tr>\n",
       "    <tr>\n",
       "      <th>std</th>\n",
       "      <td>62515.711276</td>\n",
       "      <td>3.933878</td>\n",
       "      <td>168.901391</td>\n",
       "      <td>239.344948</td>\n",
       "      <td>2.022192</td>\n",
       "      <td>61.169876</td>\n",
       "      <td>47.321212</td>\n",
       "    </tr>\n",
       "    <tr>\n",
       "      <th>min</th>\n",
       "      <td>7.000000</td>\n",
       "      <td>0.000000</td>\n",
       "      <td>0.000000</td>\n",
       "      <td>1.000000</td>\n",
       "      <td>0.000000</td>\n",
       "      <td>0.000000</td>\n",
       "      <td>0.000000</td>\n",
       "    </tr>\n",
       "    <tr>\n",
       "      <th>25%</th>\n",
       "      <td>41254.500000</td>\n",
       "      <td>1.000000</td>\n",
       "      <td>6.000000</td>\n",
       "      <td>1.000000</td>\n",
       "      <td>6.000000</td>\n",
       "      <td>1.236000</td>\n",
       "      <td>0.000000</td>\n",
       "    </tr>\n",
       "    <tr>\n",
       "      <th>50%</th>\n",
       "      <td>79200.000000</td>\n",
       "      <td>1.000000</td>\n",
       "      <td>13.000000</td>\n",
       "      <td>2.000000</td>\n",
       "      <td>7.000000</td>\n",
       "      <td>2.755000</td>\n",
       "      <td>30.000000</td>\n",
       "    </tr>\n",
       "    <tr>\n",
       "      <th>75%</th>\n",
       "      <td>119228.000000</td>\n",
       "      <td>2.000000</td>\n",
       "      <td>34.000000</td>\n",
       "      <td>7.000000</td>\n",
       "      <td>8.000000</td>\n",
       "      <td>7.614000</td>\n",
       "      <td>50.000000</td>\n",
       "    </tr>\n",
       "    <tr>\n",
       "      <th>max</th>\n",
       "      <td>236082.000000</td>\n",
       "      <td>101.000000</td>\n",
       "      <td>8073.000000</td>\n",
       "      <td>12398.000000</td>\n",
       "      <td>10.000000</td>\n",
       "      <td>2419.997000</td>\n",
       "      <td>2006.000000</td>\n",
       "    </tr>\n",
       "  </tbody>\n",
       "</table>\n",
       "</div>"
      ],
      "text/plain": [
       "                  id  number_of_seasons  number_of_episodes    vote_count  \\\n",
       "count    9099.000000        9099.000000         9099.000000   9099.000000   \n",
       "mean    88488.947467           2.242444           43.740191     34.369711   \n",
       "std     62515.711276           3.933878          168.901391    239.344948   \n",
       "min         7.000000           0.000000            0.000000      1.000000   \n",
       "25%     41254.500000           1.000000            6.000000      1.000000   \n",
       "50%     79200.000000           1.000000           13.000000      2.000000   \n",
       "75%    119228.000000           2.000000           34.000000      7.000000   \n",
       "max    236082.000000         101.000000         8073.000000  12398.000000   \n",
       "\n",
       "       vote_average   popularity  episode_run_time  \n",
       "count   9099.000000  9099.000000       9099.000000  \n",
       "mean       6.850998    13.291767         34.211122  \n",
       "std        2.022192    61.169876         47.321212  \n",
       "min        0.000000     0.000000          0.000000  \n",
       "25%        6.000000     1.236000          0.000000  \n",
       "50%        7.000000     2.755000         30.000000  \n",
       "75%        8.000000     7.614000         50.000000  \n",
       "max       10.000000  2419.997000       2006.000000  "
      ]
     },
     "execution_count": 133,
     "metadata": {},
     "output_type": "execute_result"
    }
   ],
   "source": [
    "validation_set.describe()"
   ]
  },
  {
   "cell_type": "code",
   "execution_count": 134,
   "id": "d4dd7db7-1fa6-4792-a990-b3829d006edc",
   "metadata": {},
   "outputs": [
    {
     "data": {
      "text/html": [
       "<div>\n",
       "<style scoped>\n",
       "    .dataframe tbody tr th:only-of-type {\n",
       "        vertical-align: middle;\n",
       "    }\n",
       "\n",
       "    .dataframe tbody tr th {\n",
       "        vertical-align: top;\n",
       "    }\n",
       "\n",
       "    .dataframe thead th {\n",
       "        text-align: right;\n",
       "    }\n",
       "</style>\n",
       "<table border=\"1\" class=\"dataframe\">\n",
       "  <thead>\n",
       "    <tr style=\"text-align: right;\">\n",
       "      <th></th>\n",
       "      <th>id</th>\n",
       "      <th>number_of_seasons</th>\n",
       "      <th>number_of_episodes</th>\n",
       "      <th>vote_count</th>\n",
       "      <th>vote_average</th>\n",
       "      <th>popularity</th>\n",
       "      <th>episode_run_time</th>\n",
       "    </tr>\n",
       "  </thead>\n",
       "  <tbody>\n",
       "    <tr>\n",
       "      <th>count</th>\n",
       "      <td>11374.000000</td>\n",
       "      <td>11374.000000</td>\n",
       "      <td>11374.000000</td>\n",
       "      <td>11374.000000</td>\n",
       "      <td>11374.000000</td>\n",
       "      <td>11374.000000</td>\n",
       "      <td>11374.000000</td>\n",
       "    </tr>\n",
       "    <tr>\n",
       "      <th>mean</th>\n",
       "      <td>89735.861438</td>\n",
       "      <td>2.197995</td>\n",
       "      <td>45.299807</td>\n",
       "      <td>38.298752</td>\n",
       "      <td>6.838457</td>\n",
       "      <td>12.915949</td>\n",
       "      <td>33.782311</td>\n",
       "    </tr>\n",
       "    <tr>\n",
       "      <th>std</th>\n",
       "      <td>62267.379959</td>\n",
       "      <td>4.013892</td>\n",
       "      <td>279.287322</td>\n",
       "      <td>281.860900</td>\n",
       "      <td>2.043413</td>\n",
       "      <td>63.131066</td>\n",
       "      <td>39.075475</td>\n",
       "    </tr>\n",
       "    <tr>\n",
       "      <th>min</th>\n",
       "      <td>6.000000</td>\n",
       "      <td>0.000000</td>\n",
       "      <td>0.000000</td>\n",
       "      <td>1.000000</td>\n",
       "      <td>0.000000</td>\n",
       "      <td>0.000000</td>\n",
       "      <td>0.000000</td>\n",
       "    </tr>\n",
       "    <tr>\n",
       "      <th>25%</th>\n",
       "      <td>43283.000000</td>\n",
       "      <td>1.000000</td>\n",
       "      <td>6.000000</td>\n",
       "      <td>1.000000</td>\n",
       "      <td>6.000000</td>\n",
       "      <td>1.176000</td>\n",
       "      <td>0.000000</td>\n",
       "    </tr>\n",
       "    <tr>\n",
       "      <th>50%</th>\n",
       "      <td>81175.000000</td>\n",
       "      <td>1.000000</td>\n",
       "      <td>13.000000</td>\n",
       "      <td>2.000000</td>\n",
       "      <td>7.000000</td>\n",
       "      <td>2.679500</td>\n",
       "      <td>30.000000</td>\n",
       "    </tr>\n",
       "    <tr>\n",
       "      <th>75%</th>\n",
       "      <td>120098.250000</td>\n",
       "      <td>2.000000</td>\n",
       "      <td>34.000000</td>\n",
       "      <td>7.000000</td>\n",
       "      <td>8.000000</td>\n",
       "      <td>7.831000</td>\n",
       "      <td>48.000000</td>\n",
       "    </tr>\n",
       "    <tr>\n",
       "      <th>max</th>\n",
       "      <td>236354.000000</td>\n",
       "      <td>134.000000</td>\n",
       "      <td>20839.000000</td>\n",
       "      <td>13870.000000</td>\n",
       "      <td>10.000000</td>\n",
       "      <td>3049.228000</td>\n",
       "      <td>981.000000</td>\n",
       "    </tr>\n",
       "  </tbody>\n",
       "</table>\n",
       "</div>"
      ],
      "text/plain": [
       "                  id  number_of_seasons  number_of_episodes    vote_count  \\\n",
       "count   11374.000000       11374.000000        11374.000000  11374.000000   \n",
       "mean    89735.861438           2.197995           45.299807     38.298752   \n",
       "std     62267.379959           4.013892          279.287322    281.860900   \n",
       "min         6.000000           0.000000            0.000000      1.000000   \n",
       "25%     43283.000000           1.000000            6.000000      1.000000   \n",
       "50%     81175.000000           1.000000           13.000000      2.000000   \n",
       "75%    120098.250000           2.000000           34.000000      7.000000   \n",
       "max    236354.000000         134.000000        20839.000000  13870.000000   \n",
       "\n",
       "       vote_average    popularity  episode_run_time  \n",
       "count  11374.000000  11374.000000      11374.000000  \n",
       "mean       6.838457     12.915949         33.782311  \n",
       "std        2.043413     63.131066         39.075475  \n",
       "min        0.000000      0.000000          0.000000  \n",
       "25%        6.000000      1.176000          0.000000  \n",
       "50%        7.000000      2.679500         30.000000  \n",
       "75%        8.000000      7.831000         48.000000  \n",
       "max       10.000000   3049.228000        981.000000  "
      ]
     },
     "execution_count": 134,
     "metadata": {},
     "output_type": "execute_result"
    }
   ],
   "source": [
    "test_set.describe()"
   ]
  },
  {
   "cell_type": "code",
   "execution_count": 138,
   "id": "e502a506-694d-4273-8b21-468fdc9277df",
   "metadata": {},
   "outputs": [],
   "source": [
    "train_set_label = train_set['vote_average']\n",
    "validation_set_label = validation_set['vote_average']\n",
    "test_set_label = test_set['vote_average']\n",
    "train_set.drop(['vote_average'], axis=1, inplace=True)\n",
    "validation_set.drop(['vote_average'], axis=1,inplace=True)\n",
    "test_set.drop(['vote_average'],axis=1, inplace=True)"
   ]
  },
  {
   "cell_type": "code",
   "execution_count": 141,
   "id": "eaafb3c1-61e1-465d-a765-e4d29c8cd8e4",
   "metadata": {},
   "outputs": [],
   "source": [
    "num_attributes = ['number_of_seasons','number_of_episodes','vote_count']"
   ]
  },
  {
   "cell_type": "code",
   "execution_count": 142,
   "id": "00d3c80d-1637-4e63-bc59-dcc4b8d3ea48",
   "metadata": {},
   "outputs": [],
   "source": [
    "train_set = train_set[num_attributes]\n",
    "validation_set = validation_set[num_attributes]\n",
    "test_set = test_set[num_attributes]"
   ]
  },
  {
   "cell_type": "code",
   "execution_count": 143,
   "id": "9eb5d435-1cb7-4349-82bf-0071db41ce90",
   "metadata": {},
   "outputs": [],
   "source": [
    "from sklearn.pipeline import Pipeline\n",
    "from sklearn.preprocessing import StandardScaler\n",
    "\n",
    "num_pipeline = Pipeline([\n",
    "        ('std_scaler', StandardScaler()),\n",
    "    ])"
   ]
  },
  {
   "cell_type": "code",
   "execution_count": 205,
   "id": "8773856a-bbfe-4c53-bb83-b6435cb84e26",
   "metadata": {},
   "outputs": [],
   "source": [
    "train_set_tr = num_pipeline.fit_transform(train_set)\n",
    "validation_set_tr = num_pipeline.fit_transform(validation_set)\n",
    "test_set_tr = num_pipeline.fit_transform(test_set)"
   ]
  },
  {
   "cell_type": "code",
   "execution_count": 145,
   "id": "9e0a72ce-7270-4420-9382-750578a49f6f",
   "metadata": {},
   "outputs": [
    {
     "data": {
      "text/plain": [
       "array([[-0.29498343, -0.12116458, -0.10921462],\n",
       "       [-0.29498343,  0.52440619, -0.10921462],\n",
       "       [ 0.16934753,  0.09719024, -0.07007424],\n",
       "       ...,\n",
       "       [-0.06281795,  0.03073442, -0.10921462],\n",
       "       [ 1.33017493,  0.14465868, -0.05329978],\n",
       "       [ 3.18749877,  0.77124208, -0.10921462]])"
      ]
     },
     "execution_count": 145,
     "metadata": {},
     "output_type": "execute_result"
    }
   ],
   "source": [
    "train_set_tr"
   ]
  },
  {
   "cell_type": "code",
   "execution_count": 146,
   "id": "692f9787-5dc7-430e-ba50-17942690a186",
   "metadata": {},
   "outputs": [
    {
     "data": {
      "text/plain": [
       "array([[ 2.22631119,  1.30414505,  2.63914073],\n",
       "       [ 0.19258283, -0.15240612,  0.37032392],\n",
       "       [-0.31584926,  0.07258959, -0.13942866],\n",
       "       ...,\n",
       "       [-0.31584926, -0.1346433 ,  0.01934674],\n",
       "       [-0.31584926, -0.18793176, -0.12271546],\n",
       "       [-0.31584926, -0.164248  , -0.05168436]])"
      ]
     },
     "execution_count": 146,
     "metadata": {},
     "output_type": "execute_result"
    }
   ],
   "source": [
    "validation_set_tr"
   ]
  },
  {
   "cell_type": "code",
   "execution_count": 147,
   "id": "5422eb2a-4441-4ca5-9572-976f45aa1067",
   "metadata": {},
   "outputs": [
    {
     "data": {
      "text/plain": [
       "LinearRegression()"
      ]
     },
     "execution_count": 147,
     "metadata": {},
     "output_type": "execute_result"
    }
   ],
   "source": [
    "from sklearn.linear_model import LinearRegression\n",
    "\n",
    "lin_reg = LinearRegression()\n",
    "lin_reg.fit(train_set_tr, train_set_label)"
   ]
  },
  {
   "cell_type": "code",
   "execution_count": 148,
   "id": "d142aaea-7d5c-430d-8ea6-63203c74eb8f",
   "metadata": {},
   "outputs": [
    {
     "data": {
      "text/plain": [
       "LinearRegression()"
      ]
     },
     "execution_count": 148,
     "metadata": {},
     "output_type": "execute_result"
    }
   ],
   "source": [
    "lin_reg"
   ]
  },
  {
   "cell_type": "code",
   "execution_count": 149,
   "id": "94e155f3-2f44-4e6f-aa4c-aaa76a19a531",
   "metadata": {},
   "outputs": [],
   "source": [
    "train_set_predictions = lin_reg.predict(train_set_tr)"
   ]
  },
  {
   "cell_type": "code",
   "execution_count": 150,
   "id": "6589d147-1980-4dd8-9cd0-4bef0c826e88",
   "metadata": {},
   "outputs": [
    {
     "data": {
      "text/plain": [
       "array([6.79228309, 6.74454783, 6.79658065, ..., 6.78901283, 6.83481576,\n",
       "       6.84571966])"
      ]
     },
     "execution_count": 150,
     "metadata": {},
     "output_type": "execute_result"
    }
   ],
   "source": [
    "train_set_predictions"
   ]
  },
  {
   "cell_type": "code",
   "execution_count": 189,
   "id": "b2f7bc97-af0c-4231-8c32-1ae5b60e5304",
   "metadata": {},
   "outputs": [],
   "source": [
    "train_df = pd.DataFrame({'prediction_lin_reg': train_set_predictions, 'label': train_set_label})"
   ]
  },
  {
   "cell_type": "code",
   "execution_count": 191,
   "id": "0036953c-a233-49ce-a35b-800acc945254",
   "metadata": {},
   "outputs": [
    {
     "data": {
      "text/plain": [
       "[<matplotlib.lines.Line2D at 0x1809e12eca0>]"
      ]
     },
     "execution_count": 191,
     "metadata": {},
     "output_type": "execute_result"
    },
    {
     "data": {
      "image/png": "[encoded data removed]",
      "text/plain": [
       "<Figure size 432x288 with 2 Axes>"
      ]
     },
     "metadata": {
      "needs_background": "light"
     },
     "output_type": "display_data"
    }
   ],
   "source": [
    "train_df['lin_reg_error'] = train_df['label'] - train_df['prediction_lin_reg']\n",
    "# train_df.plot(y='prediction',x='label',kind='scatter')\n",
    "fig, (ax1, ax2) = plt.subplots(1, 2, sharey=True)\n",
    "ax1.scatter(y='label',x='prediction_lin_reg', data=train_df)\n",
    "ax1.set_title('Label vs Prediction')\n",
    "ax2.plot(train_df['lin_reg_error'])"
   ]
  },
  {
   "cell_type": "code",
   "execution_count": 188,
   "id": "08f97dcc-28d2-43bd-a2b8-ab664fb9e8ca",
   "metadata": {},
   "outputs": [
    {
     "data": {
      "text/plain": [
       "<AxesSubplot:>"
      ]
     },
     "execution_count": 188,
     "metadata": {},
     "output_type": "execute_result"
    },
    {
     "data": {
      "image/png": "[encoded data removed]",
      "text/plain": [
       "<Figure size 432x288 with 1 Axes>"
      ]
     },
     "metadata": {
      "needs_background": "light"
     },
     "output_type": "display_data"
    }
   ],
   "source": [
    "train_df['lin_reg_error'].hist()"
   ]
  },
  {
   "cell_type": "code",
   "execution_count": 161,
   "id": "5d39f2f6-42b7-44e9-9b3b-50ace8150c7e",
   "metadata": {},
   "outputs": [],
   "source": [
    "from sklearn.metrics import mean_squared_error"
   ]
  },
  {
   "cell_type": "code",
   "execution_count": 162,
   "id": "1aedeb0b-9122-4cd1-8b0f-9d2a239dd857",
   "metadata": {},
   "outputs": [
    {
     "data": {
      "text/plain": [
       "2.0423103543319097"
      ]
     },
     "execution_count": 162,
     "metadata": {},
     "output_type": "execute_result"
    }
   ],
   "source": [
    "lin_mse = mean_squared_error(train_set_label, train_set_predictions)\n",
    "lin_rmse = np.sqrt(lin_mse)\n",
    "lin_rmse"
   ]
  },
  {
   "cell_type": "code",
   "execution_count": 163,
   "id": "2d0b559b-f9df-4fe8-84ca-84057b843eab",
   "metadata": {},
   "outputs": [],
   "source": [
    "from sklearn.metrics import mean_absolute_error"
   ]
  },
  {
   "cell_type": "code",
   "execution_count": 165,
   "id": "e86d50a4-6ab8-458f-a652-dd2fec970d9e",
   "metadata": {},
   "outputs": [
    {
     "data": {
      "text/plain": [
       "1.5435244981860472"
      ]
     },
     "execution_count": 165,
     "metadata": {},
     "output_type": "execute_result"
    }
   ],
   "source": [
    "lin_mae = mean_absolute_error(train_set_label, train_set_predictions)\n",
    "lin_mae"
   ]
  },
  {
   "cell_type": "code",
   "execution_count": 183,
   "id": "3e3ccf16-c8cd-41c1-bc27-1991fe0e50f0",
   "metadata": {},
   "outputs": [
    {
     "data": {
      "text/plain": [
       "DecisionTreeRegressor(random_state=42)"
      ]
     },
     "execution_count": 183,
     "metadata": {},
     "output_type": "execute_result"
    }
   ],
   "source": [
    "from sklearn.tree import DecisionTreeRegressor\n",
    "\n",
    "tree_reg_train = DecisionTreeRegressor(random_state=42)\n",
    "tree_reg_train.fit(train_set_tr, train_set_label)"
   ]
  },
  {
   "cell_type": "code",
   "execution_count": 186,
   "id": "114ee906-a093-458e-9726-c5779e2d60e5",
   "metadata": {},
   "outputs": [
    {
     "data": {
      "text/plain": [
       "1.85398781466102"
      ]
     },
     "execution_count": 186,
     "metadata": {},
     "output_type": "execute_result"
    }
   ],
   "source": [
    "tree_predictions_train = tree_reg_train.predict(train_set_tr)\n",
    "tree_mse_train = mean_squared_error(train_set_label, tree_predictions_train)\n",
    "tree_rmse_train = np.sqrt(tree_mse_train)\n",
    "tree_rmse_train"
   ]
  },
  {
   "cell_type": "code",
   "execution_count": 192,
   "id": "5a2d7604-49c7-4668-bcd3-44ad8de47201",
   "metadata": {},
   "outputs": [],
   "source": [
    "train_df['prediction_regression_tree'] = tree_predictions_train"
   ]
  },
  {
   "cell_type": "code",
   "execution_count": 193,
   "id": "94fa2a3f-15d4-4c54-b9a8-65a8144e15a6",
   "metadata": {},
   "outputs": [],
   "source": [
    "train_df['regression_tree_error'] = train_df['label'] - train_df['prediction_regression_tree']"
   ]
  },
  {
   "cell_type": "code",
   "execution_count": 194,
   "id": "8d646a75-5501-46eb-a6c6-d2f138cc3439",
   "metadata": {},
   "outputs": [
    {
     "data": {
      "text/plain": [
       "[<matplotlib.lines.Line2D at 0x180b5b93910>]"
      ]
     },
     "execution_count": 194,
     "metadata": {},
     "output_type": "execute_result"
    },
    {
     "data": {
      "image/png": "[encoded data removed]",
      "text/plain": [
       "<Figure size 432x288 with 2 Axes>"
      ]
     },
     "metadata": {
      "needs_background": "light"
     },
     "output_type": "display_data"
    }
   ],
   "source": [
    "fig, (ax1, ax2) = plt.subplots(1, 2, sharey=True)\n",
    "ax1.scatter(y='label',x='prediction_regression_tree', data=train_df)\n",
    "ax1.set_title('Label vs Prediction')\n",
    "ax2.plot(train_df['regression_tree_error'])"
   ]
  },
  {
   "cell_type": "code",
   "execution_count": 195,
   "id": "37d12559-e6ca-4e8a-b6b3-04ea5c2e7c7d",
   "metadata": {},
   "outputs": [
    {
     "data": {
      "text/plain": [
       "<AxesSubplot:>"
      ]
     },
     "execution_count": 195,
     "metadata": {},
     "output_type": "execute_result"
    },
    {
     "data": {
      "image/png": "[encoded data removed]",
      "text/plain": [
       "<Figure size 432x288 with 1 Axes>"
      ]
     },
     "metadata": {
      "needs_background": "light"
     },
     "output_type": "display_data"
    }
   ],
   "source": [
    "train_df['regression_tree_error'].hist()"
   ]
  },
  {
   "cell_type": "code",
   "execution_count": 199,
   "id": "e99922c7-3214-423d-a575-973e9b03ad74",
   "metadata": {},
   "outputs": [
    {
     "data": {
      "text/plain": [
       "0.004234130786946566"
      ]
     },
     "execution_count": 199,
     "metadata": {},
     "output_type": "execute_result"
    }
   ],
   "source": [
    "lin_reg.score(train_set_tr, train_set_label)"
   ]
  },
  {
   "cell_type": "code",
   "execution_count": 200,
   "id": "f572d392-9ff8-4789-8888-9abb51dbd996",
   "metadata": {},
   "outputs": [
    {
     "data": {
      "text/plain": [
       "0.17940756518480394"
      ]
     },
     "execution_count": 200,
     "metadata": {},
     "output_type": "execute_result"
    }
   ],
   "source": [
    "tree_reg_train.score(train_set_tr, train_set_label)"
   ]
  },
  {
   "cell_type": "code",
   "execution_count": 201,
   "id": "f4c758f8-80c4-4812-92d4-a90a3472bb16",
   "metadata": {},
   "outputs": [
    {
     "data": {
      "text/plain": [
       "DecisionTreeRegressor(random_state=42)"
      ]
     },
     "execution_count": 201,
     "metadata": {},
     "output_type": "execute_result"
    }
   ],
   "source": [
    "tree_reg_val = DecisionTreeRegressor(random_state=42)\n",
    "tree_reg_val.fit(validation_set_tr, validation_set_label)"
   ]
  },
  {
   "cell_type": "code",
   "execution_count": 202,
   "id": "17015682-a98b-4c47-8ca6-bcae9ccba010",
   "metadata": {},
   "outputs": [
    {
     "data": {
      "text/plain": [
       "1.719969754622723"
      ]
     },
     "execution_count": 202,
     "metadata": {},
     "output_type": "execute_result"
    }
   ],
   "source": [
    "tree_predictions_val = tree_reg_val.predict(validation_set_tr)\n",
    "tree_mse_val = mean_squared_error(validation_set_label, tree_predictions_val)\n",
    "tree_rmse_val = np.sqrt(tree_mse_val)\n",
    "tree_rmse_val"
   ]
  },
  {
   "cell_type": "code",
   "execution_count": 207,
   "id": "227f024b-3f2d-46af-8cda-baf33e542db4",
   "metadata": {},
   "outputs": [
    {
     "data": {
      "text/plain": [
       "1.7776450018365493"
      ]
     },
     "execution_count": 207,
     "metadata": {},
     "output_type": "execute_result"
    }
   ],
   "source": [
    "tree_reg_test = DecisionTreeRegressor(random_state=42)\n",
    "tree_reg_test.fit(test_set_tr, test_set_label)\n",
    "tree_predictions_test = tree_reg_test.predict(test_set_tr)\n",
    "tree_mse_test = mean_squared_error(test_set_label, tree_predictions_test)\n",
    "tree_rmse_test = np.sqrt(tree_mse_test)\n",
    "tree_rmse_test"
   ]
  },
  {
   "cell_type": "code",
   "execution_count": 209,
   "id": "65d74a91-8fd0-458b-b2eb-f22a32d7c5b9",
   "metadata": {},
   "outputs": [
    {
     "data": {
      "image/png": "[encoded data removed]",
      "text/plain": [
       "<Figure size 432x288 with 1 Axes>"
      ]
     },
     "metadata": {
      "needs_background": "light"
     },
     "output_type": "display_data"
    }
   ],
   "source": [
    "plt.hist(test_set_label - tree_predictions_test)\n",
    "plt.show()"
   ]
  },
  {
   "cell_type": "code",
   "execution_count": 210,
   "id": "96b94762-1c90-411f-857e-5ff4da8749c8",
   "metadata": {},
   "outputs": [],
   "source": [
    "import scipy.stats as st "
   ]
  },
  {
   "cell_type": "code",
   "execution_count": 215,
   "id": "f3576f8c-0176-46bd-b2f3-c0bd2ad4ba4b",
   "metadata": {},
   "outputs": [
    {
     "data": {
      "text/plain": [
       "(-0.0326739642429975, 0.03267396424299736)"
      ]
     },
     "execution_count": 215,
     "metadata": {},
     "output_type": "execute_result"
    }
   ],
   "source": [
    "st.t.interval(alpha=0.95, \n",
    "              df=len(test_set_label - tree_predictions_test)-1, \n",
    "              loc=np.mean(test_set_label - tree_predictions_test),  \n",
    "              scale=st.sem(test_set_label - tree_predictions_test)) "
   ]
  },
  {
   "cell_type": "code",
   "execution_count": null,
   "id": "20d5cfe2-b95a-4197-9bd2-db431cb27360",
   "metadata": {},
   "outputs": [],
   "source": []
  }
 ],
 "metadata": {
  "kernelspec": {
   "display_name": "Python 3 (ipykernel)",
   "language": "python",
   "name": "python3"
  },
  "language_info": {
   "codemirror_mode": {
    "name": "ipython",
    "version": 3
   },
   "file_extension": ".py",
   "mimetype": "text/x-python",
   "name": "python",
   "nbconvert_exporter": "python",
   "pygments_lexer": "ipython3",
   "version": "3.9.12"
  }
 },
 "nbformat": 4,
 "nbformat_minor": 5
}
